{
 "cells": [
  {
   "cell_type": "code",
   "execution_count": 3,
   "id": "d5585f75-3c8a-48d9-9a75-784c5b8599ba",
   "metadata": {},
   "outputs": [
    {
     "name": "stdout",
     "output_type": "stream",
     "text": [
      "     Index   Height(Inches)\"   \"Weight(Pounds)\"\n",
      "0        1             65.78             112.99\n",
      "1        2             71.52             136.49\n",
      "2        3             69.40             153.03\n",
      "3        4             68.22             142.34\n",
      "4        5             67.79             144.30\n",
      "..     ...               ...                ...\n",
      "195    196             65.80             120.84\n",
      "196    197             66.11             115.78\n",
      "197    198             68.24             128.30\n",
      "198    199             68.02             127.47\n",
      "199    200             71.39             127.88\n",
      "\n",
      "[200 rows x 3 columns]\n",
      "    Index   Height(Inches)\"   \"Weight(Pounds)\"\n",
      "0       1             65.78             112.99\n",
      "1       2             71.52             136.49\n",
      "2       3             69.40             153.03\n",
      "3       4             68.22             142.34\n",
      "4       5             67.79             144.30\n",
      "5       6             68.70             123.30\n",
      "6       7             69.80             141.49\n",
      "7       8             70.01             136.46\n",
      "8       9             67.90             112.37\n",
      "9      10             66.78             120.67\n",
      "10     11             66.49             127.45\n",
      "11     12             67.62             114.14\n",
      "12     13             68.30             125.61\n",
      "13     14             67.12             122.46\n",
      "14     15             68.28             116.09\n",
      "     Index   Height(Inches)\"   \"Weight(Pounds)\"\n",
      "185    186             65.96             129.15\n",
      "186    187             68.58             127.87\n",
      "187    188             66.59             120.92\n",
      "188    189             66.97             127.65\n",
      "189    190             68.08             101.47\n",
      "190    191             70.19             144.99\n",
      "191    192             65.52             110.95\n",
      "192    193             67.46             132.86\n",
      "193    194             67.41             146.34\n",
      "194    195             69.66             145.59\n",
      "195    196             65.80             120.84\n",
      "196    197             66.11             115.78\n",
      "197    198             68.24             128.30\n",
      "198    199             68.02             127.47\n",
      "199    200             71.39             127.88\n"
     ]
    }
   ],
   "source": [
    "import pandas as pd\n",
    "\n",
    "data = pd.read_csv(\"pandas_file_usr_data.csv\")\n",
    "print(data)\n",
    "print(data.head(15))       #starting ki 15 values print hogi\n",
    "print(data.tail(15))       #last ki 15 values print krwa dega"
   ]
  },
  {
   "cell_type": "code",
   "execution_count": null,
   "id": "8d51fd81-e98b-4470-bf90-f4862c825dce",
   "metadata": {},
   "outputs": [],
   "source": []
  },
  {
   "cell_type": "code",
   "execution_count": 4,
   "id": "cc5cf7c1-9441-43e4-92a8-8816b504a16c",
   "metadata": {},
   "outputs": [
    {
     "name": "stdout",
     "output_type": "stream",
     "text": [
      "<class 'pandas.core.frame.DataFrame'>\n",
      "RangeIndex: 200 entries, 0 to 199\n",
      "Data columns (total 3 columns):\n",
      " #   Column             Non-Null Count  Dtype  \n",
      "---  ------             --------------  -----  \n",
      " 0   Index              200 non-null    int64  \n",
      " 1    Height(Inches)\"   200 non-null    float64\n",
      " 2    \"Weight(Pounds)\"  200 non-null    float64\n",
      "dtypes: float64(2), int64(1)\n",
      "memory usage: 4.8 KB\n",
      "None\n"
     ]
    }
   ],
   "source": [
    "print(data.info())     #returns the information of data"
   ]
  },
  {
   "cell_type": "code",
   "execution_count": 5,
   "id": "c378a5b3-c3f4-4169-978b-cd631576b67d",
   "metadata": {},
   "outputs": [
    {
     "name": "stdout",
     "output_type": "stream",
     "text": [
      "            Index   Height(Inches)\"   \"Weight(Pounds)\"\n",
      "count  200.000000        200.000000         200.000000\n",
      "mean   100.500000         67.949800         127.221950\n",
      "std     57.879185          1.940363          11.960959\n",
      "min      1.000000         63.430000          97.900000\n",
      "25%     50.750000         66.522500         119.895000\n",
      "50%    100.500000         67.935000         127.875000\n",
      "75%    150.250000         69.202500         136.097500\n",
      "max    200.000000         73.900000         158.960000\n"
     ]
    }
   ],
   "source": [
    "print(data.describe())     #returns mean, std deviation , max, min, etc"
   ]
  },
  {
   "cell_type": "code",
   "execution_count": 6,
   "id": "7994d42b-b311-473a-ae3c-da9b10706564",
   "metadata": {},
   "outputs": [
    {
     "name": "stdout",
     "output_type": "stream",
     "text": [
      "     Index   Height(Inches)\"   \"Weight(Pounds)\"\n",
      "0    False             False              False\n",
      "1    False             False              False\n",
      "2    False             False              False\n",
      "3    False             False              False\n",
      "4    False             False              False\n",
      "..     ...               ...                ...\n",
      "195  False             False              False\n",
      "196  False             False              False\n",
      "197  False             False              False\n",
      "198  False             False              False\n",
      "199  False             False              False\n",
      "\n",
      "[200 rows x 3 columns]\n"
     ]
    }
   ],
   "source": [
    "   print(data.isnull()).  #jaha jaha null value h waha true aa jayega"
   ]
  },
  {
   "cell_type": "code",
   "execution_count": 7,
   "id": "060d5865-360b-4e59-85f0-55208a94e188",
   "metadata": {},
   "outputs": [
    {
     "name": "stdout",
     "output_type": "stream",
     "text": [
      "Index                0\n",
      " Height(Inches)\"     0\n",
      " \"Weight(Pounds)\"    0\n",
      "dtype: int64\n"
     ]
    }
   ],
   "source": [
    "print(data.isnull().sum())  #column wise null value dikayega (jis column m null value hogi uske aage  number bta dega)\n",
    "#isme Index, Height,Weight columns m 0 null values h "
   ]
  },
  {
   "cell_type": "code",
   "execution_count": 22,
   "id": "9d87163e-f1ce-4bb7-b6fe-5cd054155bfe",
   "metadata": {},
   "outputs": [
    {
     "name": "stdout",
     "output_type": "stream",
     "text": [
      "Requirement already satisfied: xlrd in /opt/anaconda3/lib/python3.13/site-packages (2.0.2)\n",
      "    Unnamed: 0 First Name  Last Name  Gender        Country  Age        Date  \\\n",
      "0            1      Dulce      Abril  Female  United States   32  15/10/2017   \n",
      "1            2       Mara  Hashimoto  Female  Great Britain   25  16/08/2016   \n",
      "2            3     Philip       Gent    Male         France   36  21/05/2015   \n",
      "3            4   Kathleen     Hanner  Female  United States   25  15/10/2017   \n",
      "4            5    Nereida    Magwood  Female  United States   58  16/08/2016   \n",
      "5            6     Gaston      Brumm    Male  United States   24  21/05/2015   \n",
      "6            7       Etta       Hurn  Female  Great Britain   56  15/10/2017   \n",
      "7            8    Earlean     Melgar  Female  United States   27  16/08/2016   \n",
      "8            9   Vincenza    Weiland  Female  United States   40  21/05/2015   \n",
      "9           10     Fallon    Winward  Female  Great Britain   28  16/08/2016   \n",
      "10          11    Arcelia     Bouska  Female  Great Britain   39  21/05/2015   \n",
      "11          12   Franklyn     Unknow    Male         France   38  15/10/2017   \n",
      "12          13    Sherron   Ascencio  Female  Great Britain   32  16/08/2016   \n",
      "13          14     Marcel  Zabriskie    Male  Great Britain   26  21/05/2015   \n",
      "14          15       Kina   Hazelton  Female  Great Britain   31  16/08/2016   \n",
      "\n",
      "      Id  \n",
      "0   1562  \n",
      "1   1582  \n",
      "2   2587  \n",
      "3   3549  \n",
      "4   2468  \n",
      "5   2554  \n",
      "6   3598  \n",
      "7   2456  \n",
      "8   6548  \n",
      "9   5486  \n",
      "10  1258  \n",
      "11  2579  \n",
      "12  3256  \n",
      "13  2587  \n",
      "14  3259  \n"
     ]
    }
   ],
   "source": [
    "#new excel file having 1000 rows\n",
    "!pip install xlrd\n",
    "import pandas as pd\n",
    "data1 = pd.read_excel(\"XL_File_pandas_1000.xls\")\n",
    "print(data1.head(15))"
   ]
  },
  {
   "cell_type": "code",
   "execution_count": 19,
   "id": "30cbbdba-9a6b-4cc4-b2a3-bb09dbbb70b2",
   "metadata": {},
   "outputs": [
    {
     "name": "stdout",
     "output_type": "stream",
     "text": [
      "0      False\n",
      "1      False\n",
      "2      False\n",
      "3       True\n",
      "4       True\n",
      "       ...  \n",
      "995     True\n",
      "996     True\n",
      "997     True\n",
      "998     True\n",
      "999     True\n",
      "Name: Country, Length: 1000, dtype: bool\n"
     ]
    },
    {
     "data": {
      "text/plain": [
       "np.int64(997)"
      ]
     },
     "execution_count": 19,
     "metadata": {},
     "output_type": "execute_result"
    }
   ],
   "source": [
    "print(data1[\"Country\"].duplicated())     #return true in the columns where data is duplicate\n",
    "(data1[\"Country\"].duplicated().sum())    #return "
   ]
  },
  {
   "cell_type": "code",
   "execution_count": 24,
   "id": "b214d8a5-436a-4ff8-9967-4b01facd2968",
   "metadata": {},
   "outputs": [
    {
     "name": "stdout",
     "output_type": "stream",
     "text": [
      "    Unnamed: 0 First Name   Last Name  Gender        Country  Age        Date  \\\n",
      "0            1      Dulce       Abril  Female  United States   32  15/10/2017   \n",
      "1            2       Mara   Hashimoto  Female  Great Britain   25  16/08/2016   \n",
      "2            3     Philip        Gent    Male         France   36  21/05/2015   \n",
      "3            4   Kathleen      Hanner  Female  United States   25  15/10/2017   \n",
      "4            5    Nereida     Magwood  Female  United States   58  16/08/2016   \n",
      "5            6     Gaston       Brumm    Male  United States   24  21/05/2015   \n",
      "6            7       Etta        Hurn  Female  Great Britain   56  15/10/2017   \n",
      "7            8    Earlean      Melgar  Female  United States   27  16/08/2016   \n",
      "8            9   Vincenza     Weiland  Female  United States   40  21/05/2015   \n",
      "9           10     Fallon     Winward  Female  Great Britain   28  16/08/2016   \n",
      "10          11    Arcelia      Bouska  Female  Great Britain   39  21/05/2015   \n",
      "11          12   Franklyn      Unknow    Male         France   38  15/10/2017   \n",
      "12          13    Sherron    Ascencio  Female  Great Britain   32  16/08/2016   \n",
      "14          15       Kina    Hazelton  Female  Great Britain   31  16/08/2016   \n",
      "15          16   Shavonne         Pia  Female         France   24  21/05/2015   \n",
      "16          17     Shavon      Benito  Female         France   39  15/10/2017   \n",
      "17          18   Lauralee     Perrine  Female  Great Britain   28  16/08/2016   \n",
      "18          19     Loreta      Curren  Female         France   26  21/05/2015   \n",
      "19          20     Teresa      Strawn  Female         France   46  21/05/2015   \n",
      "20          21    Belinda     Partain  Female  United States   37  15/10/2017   \n",
      "21          22      Holly        Eudy  Female  United States   52  16/08/2016   \n",
      "22          23       Many      Cuccia  Female  Great Britain   46  21/05/2015   \n",
      "24          25     Lester     Prothro    Male         France   21  15/10/2017   \n",
      "25          26     Marvel        Hail  Female  Great Britain   28  16/08/2016   \n",
      "26          27    Angelyn        Vong  Female  United States   29  21/05/2015   \n",
      "27          28  Francesca   Beaudreau  Female         France   23  15/10/2017   \n",
      "29          30      Carla    Trumbull  Female  Great Britain   28  21/05/2015   \n",
      "30          31       Veta       Muntz  Female  Great Britain   37  15/10/2017   \n",
      "31          32     Stasia      Becker  Female  Great Britain   34  16/08/2016   \n",
      "32          33       Jona     Grindle  Female  Great Britain   26  21/05/2015   \n",
      "33          34      Judie    Claywell  Female         France   35  16/08/2016   \n",
      "34          35     Dewitt      Borger    Male  United States   36  21/05/2015   \n",
      "35          36       Nena      Hacker  Female  United States   29  15/10/2017   \n",
      "36          37     Kelsie     Wachtel  Female         France   27  16/08/2016   \n",
      "37          38        Sau        Pfau  Female  United States   25  21/05/2015   \n",
      "38          39    Shanice   Mccrystal  Female  United States   36  21/05/2015   \n",
      "39          40      Chase      Karner    Male  United States   37  15/10/2017   \n",
      "40          41     Tommie   Underdahl    Male  United States   26  16/08/2016   \n",
      "41          42     Dorcas      Darity  Female  United States   37  21/05/2015   \n",
      "43          44  Willodean        Harn  Female  United States   39  16/08/2016   \n",
      "44          45     Weston     Martina    Male  United States   26  21/05/2015   \n",
      "45          46       Roma  Lafollette  Female  United States   34  15/10/2017   \n",
      "46          47     Felisa        Cail  Female  United States   28  16/08/2016   \n",
      "\n",
      "      Id  \n",
      "0   1562  \n",
      "1   1582  \n",
      "2   2587  \n",
      "3   3549  \n",
      "4   2468  \n",
      "5   2554  \n",
      "6   3598  \n",
      "7   2456  \n",
      "8   6548  \n",
      "9   5486  \n",
      "10  1258  \n",
      "11  2579  \n",
      "12  3256  \n",
      "14  3259  \n",
      "15  1546  \n",
      "16  3579  \n",
      "17  6597  \n",
      "18  9654  \n",
      "19  3569  \n",
      "20  2564  \n",
      "21  8561  \n",
      "22  5489  \n",
      "24  6574  \n",
      "25  5555  \n",
      "26  6125  \n",
      "27  5412  \n",
      "29  3264  \n",
      "30  4569  \n",
      "31  7521  \n",
      "32  6458  \n",
      "33  7569  \n",
      "34  8514  \n",
      "35  8563  \n",
      "36  8642  \n",
      "37  9536  \n",
      "38  2567  \n",
      "39  2154  \n",
      "40  3265  \n",
      "41  8765  \n",
      "43  3567  \n",
      "44  6540  \n",
      "45  2654  \n",
      "46  6525  \n"
     ]
    }
   ],
   "source": [
    "print(data1.drop_duplicates(\"Id\"))    #remove all the duplicates from the Id column\n",
    "#exapmle k liye because:- employee i kisi bhi employee ki samne nhi honi chahiye(name,country, surname same ho skta h) "
   ]
  },
  {
   "cell_type": "code",
   "execution_count": 27,
   "id": "9b74923f-8b75-4c35-ab91-5c29d309d895",
   "metadata": {},
   "outputs": [
    {
     "name": "stdout",
     "output_type": "stream",
     "text": [
      "     Unnamed: 0  First Name  Last Name  Gender  Country    Age   Date     Id\n",
      "0         False       False      False   False    False  False  False  False\n",
      "1         False       False      False   False    False  False  False  False\n",
      "2         False       False      False   False    False  False  False  False\n",
      "3         False       False      False   False    False  False  False  False\n",
      "4         False       False      False   False    False  False  False  False\n",
      "..          ...         ...        ...     ...      ...    ...    ...    ...\n",
      "995       False       False      False   False    False  False  False  False\n",
      "996       False       False      False   False    False  False  False  False\n",
      "997       False       False      False   False    False  False  False  False\n",
      "998       False       False      False   False    False  False  False  False\n",
      "999       False       False      False   False    False  False  False  False\n",
      "\n",
      "[1000 rows x 8 columns]\n",
      "Unnamed: 0    0\n",
      "First Name    0\n",
      "Last Name     0\n",
      "Gender        0\n",
      "Country       0\n",
      "Age           0\n",
      "Date          0\n",
      "Id            0\n",
      "dtype: int64\n"
     ]
    }
   ],
   "source": [
    " print(data1.isnull())         #returns true to all the null values in the data\n",
    " print(data1.isnull().sum())    #returns in numeric all the null values in the columns\n",
    "#there is no null value in the data because it shows false or 0"
   ]
  },
  {
   "cell_type": "code",
   "execution_count": 28,
   "id": "bea23202-4c00-4deb-a0bb-f042e9a7a21d",
   "metadata": {},
   "outputs": [
    {
     "name": "stdout",
     "output_type": "stream",
     "text": [
      "     Unnamed: 0 First Name   Last Name  Gender        Country  Age  \\\n",
      "0             1      Dulce       Abril  Female  United States   32   \n",
      "1             2       Mara   Hashimoto  Female  Great Britain   25   \n",
      "2             3     Philip        Gent    Male         France   36   \n",
      "3             4   Kathleen      Hanner  Female  United States   25   \n",
      "4             5    Nereida     Magwood  Female  United States   58   \n",
      "..          ...        ...         ...     ...            ...  ...   \n",
      "995         996       Roma  Lafollette  Female  United States   34   \n",
      "996         997     Felisa        Cail  Female  United States   28   \n",
      "997         998   Demetria       Abbey  Female  United States   32   \n",
      "998         999     Jeromy        Danz    Male  United States   39   \n",
      "999        1000   Rasheeda      Alkire  Female  United States   29   \n",
      "\n",
      "           Date    Id  \n",
      "0    15/10/2017  1562  \n",
      "1    16/08/2016  1582  \n",
      "2    21/05/2015  2587  \n",
      "3    15/10/2017  3549  \n",
      "4    16/08/2016  2468  \n",
      "..          ...   ...  \n",
      "995  15/10/2017  2654  \n",
      "996  16/08/2016  6525  \n",
      "997  21/05/2015  3265  \n",
      "998  15/10/2017  3265  \n",
      "999  16/08/2016  6125  \n",
      "\n",
      "[1000 rows x 8 columns]\n"
     ]
    }
   ],
   "source": [
    "print(data1.dropna())   #deletes all the null values"
   ]
  },
  {
   "cell_type": "code",
   "execution_count": 38,
   "id": "ccf79081-78e4-4cbc-8902-eeeb8f31f9a9",
   "metadata": {},
   "outputs": [
    {
     "name": "stdout",
     "output_type": "stream",
     "text": [
      "     Unnamed: 0 First Name   Last Name  Gender        Country  Age  \\\n",
      "0             1      Dulce       Abril  Female             US   32   \n",
      "1             2       Mara   Hashimoto  Female  Great Britain   25   \n",
      "2             3     Philip        Gent    Male         France   36   \n",
      "3             4   Kathleen      Hanner  Female             US   25   \n",
      "4             5    Nereida     Magwood  Female             US   58   \n",
      "..          ...        ...         ...     ...            ...  ...   \n",
      "995         996       Roma  Lafollette  Female             US   34   \n",
      "996         997     Felisa        Cail  Female             US   28   \n",
      "997         998   Demetria       Abbey  Female             US   32   \n",
      "998         999     Jeromy        Danz    Male             US   39   \n",
      "999        1000   Rasheeda      Alkire  Female             US   29   \n",
      "\n",
      "           Date    Id  \n",
      "0    15/10/2017  1562  \n",
      "1    16/08/2016  1582  \n",
      "2    21/05/2015  2587  \n",
      "3    15/10/2017  3549  \n",
      "4    16/08/2016  2468  \n",
      "..          ...   ...  \n",
      "995  15/10/2017  2654  \n",
      "996  16/08/2016  6525  \n",
      "997  21/05/2015  3265  \n",
      "998  15/10/2017  3265  \n",
      "999  16/08/2016  6125  \n",
      "\n",
      "[1000 rows x 8 columns]\n",
      "     Unnamed: 0 First Name   Last Name  Gender        Country  Age  \\\n",
      "0             1      Dulce       Abril  Female             US   32   \n",
      "1             2       Mara   Hashimoto  Female  Great Britain   25   \n",
      "2             3     Philip        Gent    Male         France   36   \n",
      "3             4   Kathleen      Hanner  Female             US   25   \n",
      "4             5    Nereida     Magwood  Female             US   58   \n",
      "..          ...        ...         ...     ...            ...  ...   \n",
      "995         996       Roma  Lafollette  Female             US   34   \n",
      "996         997     Felisa        Cail  Female             US   28   \n",
      "997         998   Demetria       Abbey  Female             US   32   \n",
      "998         999     Jeromy        Danz    Male             US   39   \n",
      "999        1000   Rasheeda      Alkire  Female             US   29   \n",
      "\n",
      "           Date    Id  \n",
      "0    15/10/2017  1562  \n",
      "1    16/08/2016  1582  \n",
      "2    21/05/2015  2587  \n",
      "3    15/10/2017  3549  \n",
      "4    16/08/2016  2468  \n",
      "..          ...   ...  \n",
      "995  15/10/2017  2654  \n",
      "996  16/08/2016  6525  \n",
      "997  21/05/2015  3265  \n",
      "998  15/10/2017  3265  \n",
      "999  16/08/2016  6125  \n",
      "\n",
      "[1000 rows x 8 columns]\n",
      "Index(['Unnamed: 0', 'First Name', 'Last Name', 'Gender', 'Country', 'Age',\n",
      "       'Date', 'Id'],\n",
      "      dtype='object')\n"
     ]
    }
   ],
   "source": [
    "print(data1)\n",
    "import numpy as np\n",
    "print(data1.replace(\"United States\", \"US\"))  #replace all unites states as US\n",
    "#if we ony want to replace in a particular column(suppose we want to conert Unites states to us only in country column the\n",
    "data1[\"Country\"] = data1[\"Country\"].replace(\"United States\", \"US\")\n",
    "print(data1.columns)"
   ]
  },
  {
   "cell_type": "code",
   "execution_count": null,
   "id": "1b6287dc-992e-4a01-963c-e98a0bd8e53e",
   "metadata": {},
   "outputs": [],
   "source": [
    "#print(data.fillna(method = \"bfill\")) # backward fill the null values\n",
    "#print(data.fillna(method = \"ffill\")) # forward fill the null values"
   ]
  },
  {
   "cell_type": "code",
   "execution_count": null,
   "id": "019ed7bb-fb39-43af-bede-1419870170a6",
   "metadata": {},
   "outputs": [],
   "source": []
  }
 ],
 "metadata": {
  "kernelspec": {
   "display_name": "Python [conda env:base] *",
   "language": "python",
   "name": "conda-base-py"
  },
  "language_info": {
   "codemirror_mode": {
    "name": "ipython",
    "version": 3
   },
   "file_extension": ".py",
   "mimetype": "text/x-python",
   "name": "python",
   "nbconvert_exporter": "python",
   "pygments_lexer": "ipython3",
   "version": "3.13.5"
  }
 },
 "nbformat": 4,
 "nbformat_minor": 5
}
